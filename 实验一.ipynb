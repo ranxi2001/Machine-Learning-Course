{
 "cells": [
  {
   "cell_type": "code",
   "execution_count": 5,
   "metadata": {
    "collapsed": true,
    "ExecuteTime": {
     "start_time": "2023-04-11T10:00:09.745361Z",
     "end_time": "2023-04-11T10:00:09.790752Z"
    }
   },
   "outputs": [],
   "source": [
    "import numpy as np\n",
    "train_data = np.loadtxt(\"./iris/iris-train.txt\", delimiter=\"\\t\")"
   ]
  },
  {
   "cell_type": "code",
   "execution_count": 50,
   "outputs": [],
   "source": [
    "def hypothesis(X, theta):\n",
    "    return np.dot(X, theta)\n",
    "\n",
    "def cost_function(X, y, theta):\n",
    "    m = len(y)\n",
    "    J = np.sum((hypothesis(X, theta) - y) ** 2) / (2 * m)\n",
    "    return J\n",
    "\n",
    "def gradient_descent(X, y, theta, alpha, num_iters):\n",
    "    m = len(y)\n",
    "    J_history = np.zeros(num_iters)\n",
    "    for i in range(num_iters):\n",
    "        theta = theta - (alpha / m) * np.dot(X.T, (hypothesis(X, theta) - y))\n",
    "        J_history[i] = cost_function(X, y, theta)\n",
    "    return theta, J_history"
   ],
   "metadata": {
    "collapsed": false,
    "ExecuteTime": {
     "start_time": "2023-04-11T16:37:11.274233Z",
     "end_time": "2023-04-11T16:37:11.279231Z"
    }
   }
  },
  {
   "cell_type": "code",
   "execution_count": 57,
   "outputs": [
    {
     "name": "stdout",
     "output_type": "stream",
     "text": [
      "Parameter vector:  [ 0.77898026 -0.30641866  0.32499491  0.14410097  0.72358164]\n",
      "Final cost:  0.13852550638031824\n"
     ]
    }
   ],
   "source": [
    "# Initialize the parameter vector\n",
    "X_train = train_data[:, 0:4]\n",
    "y_train = train_data[:, 4]\n",
    "X_train_hat= np.hstack((np.ones((X_train.shape[0], 1)), X_train))\n",
    "X_train= X_train_hat\n",
    "theta = np.ones(X_train.shape[1])\n",
    "\n",
    "# Set the learning rate and number of iterations\n",
    "alpha = 0.0005\n",
    "num_iters = 120\n",
    "\n",
    "# Perform gradient descent to minimize the cost function\n",
    "theta, J_history = gradient_descent(X_train, y_train, theta, alpha, num_iters)\n",
    "\n",
    "# Print the final parameter vector and cost\n",
    "print(\"Parameter vector: \", theta)\n",
    "print(\"Final cost: \", J_history[-1])"
   ],
   "metadata": {
    "collapsed": false,
    "ExecuteTime": {
     "start_time": "2023-04-11T16:42:48.031666Z",
     "end_time": "2023-04-11T16:42:48.040327Z"
    }
   }
  },
  {
   "cell_type": "code",
   "execution_count": 58,
   "outputs": [
    {
     "data": {
      "text/plain": "<Figure size 432x288 with 1 Axes>",
      "image/png": "[encoded data removed]"
     },
     "metadata": {
      "needs_background": "light"
     },
     "output_type": "display_data"
    }
   ],
   "source": [
    "# Plot the cost function\n",
    "import matplotlib.pyplot as plt\n",
    "plt.plot(J_history)\n",
    "plt.xlabel('Iterations')\n",
    "plt.ylabel('Cost')\n",
    "plt.title('Cost function')\n",
    "plt.show()"
   ],
   "metadata": {
    "collapsed": false,
    "ExecuteTime": {
     "start_time": "2023-04-11T16:42:51.188527Z",
     "end_time": "2023-04-11T16:42:51.316880Z"
    }
   }
  },
  {
   "cell_type": "code",
   "execution_count": 14,
   "outputs": [],
   "source": [
    "import numpy as np\n",
    "\n",
    "train_data = np.loadtxt(\"iris/iris-train.txt\", delimiter=\"\\t\")\n",
    "X_train = train_data[:, 0:4]\n",
    "y_train = train_data[:, 4]\n",
    "X_train_hat= np.hstack((np.ones((X_train.shape[0], 1)), X_train))\n",
    "X_train= X_train_hat\n",
    "\n",
    "def hypothesis(X, theta):\n",
    "    z = np.dot(X, theta)\n",
    "    return 1 / (1 + np.exp(-z))\n",
    "\n",
    "def cost_function(X, y, theta):\n",
    "    m = len(y)\n",
    "    J = (-1 / m) * np.sum(y * np.log(hypothesis(X, theta)) + (1 - y) * np.log(1 - hypothesis(X, theta)))\n",
    "    return J\n",
    "\n",
    "def gradient_descent(X, y, theta, alpha, num_iters):\n",
    "    m = len(y)\n",
    "    J_history = np.zeros(num_iters)\n",
    "    for i in range(num_iters):\n",
    "        theta = theta - (alpha / m) * np.dot(X.T, (hypothesis(X, theta) - y))\n",
    "        J_history[i] = cost_function(X, y, theta)\n",
    "    return theta, J_history"
   ],
   "metadata": {
    "collapsed": false,
    "ExecuteTime": {
     "start_time": "2023-04-11T21:08:50.697838Z",
     "end_time": "2023-04-11T21:08:50.710125Z"
    }
   }
  },
  {
   "cell_type": "code",
   "execution_count": 16,
   "outputs": [
    {
     "name": "stdout",
     "output_type": "stream",
     "text": [
      "Parameter vector:  [0.98850206 1.53245973 0.80450635 2.52260288 1.67045044]\n",
      "Final cost:  -4.87401754948956\n"
     ]
    },
    {
     "data": {
      "text/plain": "<Figure size 432x288 with 1 Axes>",
      "image/png": "[encoded data removed]"
     },
     "metadata": {
      "needs_background": "light"
     },
     "output_type": "display_data"
    }
   ],
   "source": [
    "# Set the learning rate and number of iterations\n",
    "alpha = 0.005\n",
    "num_iters = 230\n",
    "theta = np.ones(X_train.shape[1])\n",
    "# Perform gradient descent to minimize the cost function\n",
    "theta, J_history = gradient_descent(X_train, y_train, theta, alpha, num_iters)\n",
    "\n",
    "# Print the final parameter vector and cost\n",
    "print(\"Parameter vector: \", theta)\n",
    "print(\"Final cost: \", J_history[-1])\n",
    "\n",
    "import matplotlib.pyplot as plt\n",
    "plt.plot(J_history)\n",
    "plt.xlabel('Iterations')\n",
    "plt.ylabel('Cost')\n",
    "plt.title('Cost function')\n",
    "plt.show()"
   ],
   "metadata": {
    "collapsed": false,
    "ExecuteTime": {
     "start_time": "2023-04-11T21:48:34.037342Z",
     "end_time": "2023-04-11T21:48:34.240918Z"
    }
   }
  },
  {
   "cell_type": "code",
   "execution_count": 11,
   "outputs": [],
   "source": [
    "from sklearn.metrics import classification_report\n",
    "test_data = np.loadtxt(\"iris/iris-test.txt\", delimiter=\"\\t\")\n",
    "X_test = test_data[:, 0:4]\n",
    "X_test_hat= np.hstack((np.ones((X_test.shape[0], 1)), X_test))\n",
    "X_test= X_test_hat\n",
    "y_test = test_data[:, 4]\n",
    "y_pred = np.round(hypothesis(X_test, theta))"
   ],
   "metadata": {
    "collapsed": false,
    "ExecuteTime": {
     "start_time": "2023-04-11T21:08:05.158518Z",
     "end_time": "2023-04-11T21:08:05.165007Z"
    }
   }
  },
  {
   "cell_type": "code",
   "execution_count": 12,
   "outputs": [
    {
     "name": "stdout",
     "output_type": "stream",
     "text": [
      "[1. 1. 1. 1. 1. 1. 1. 1. 1. 1. 1. 1. 1. 1. 1. 1. 1. 1. 1. 1. 1. 1. 1. 1.\n",
      " 1. 1. 1. 1. 1. 1. 1. 1. 1. 1. 1. 1. 1. 1. 1. 1. 1. 1. 1. 1. 1. 1. 1. 1.\n",
      " 1. 1.]\n"
     ]
    }
   ],
   "source": [
    "print(y_pred)"
   ],
   "metadata": {
    "collapsed": false,
    "ExecuteTime": {
     "start_time": "2023-04-11T21:08:07.926663Z",
     "end_time": "2023-04-11T21:08:07.934744Z"
    }
   }
  },
  {
   "cell_type": "code",
   "execution_count": 13,
   "outputs": [
    {
     "name": "stdout",
     "output_type": "stream",
     "text": [
      "              precision    recall  f1-score   support\n",
      "\n",
      "         0.0       0.00      0.00      0.00        16\n",
      "         1.0       0.34      1.00      0.51        17\n",
      "         2.0       0.00      0.00      0.00        17\n",
      "\n",
      "    accuracy                           0.34        50\n",
      "   macro avg       0.11      0.33      0.17        50\n",
      "weighted avg       0.12      0.34      0.17        50\n",
      "\n"
     ]
    },
    {
     "name": "stderr",
     "output_type": "stream",
     "text": [
      "C:\\Users\\ranxi\\anaconda3\\lib\\site-packages\\sklearn\\metrics\\_classification.py:1327: UndefinedMetricWarning: Precision and F-score are ill-defined and being set to 0.0 in labels with no predicted samples. Use `zero_division` parameter to control this behavior.\n",
      "  _warn_prf(average, modifier, msg_start, len(result))\n",
      "C:\\Users\\ranxi\\anaconda3\\lib\\site-packages\\sklearn\\metrics\\_classification.py:1327: UndefinedMetricWarning: Precision and F-score are ill-defined and being set to 0.0 in labels with no predicted samples. Use `zero_division` parameter to control this behavior.\n",
      "  _warn_prf(average, modifier, msg_start, len(result))\n",
      "C:\\Users\\ranxi\\anaconda3\\lib\\site-packages\\sklearn\\metrics\\_classification.py:1327: UndefinedMetricWarning: Precision and F-score are ill-defined and being set to 0.0 in labels with no predicted samples. Use `zero_division` parameter to control this behavior.\n",
      "  _warn_prf(average, modifier, msg_start, len(result))\n"
     ]
    }
   ],
   "source": [
    "print(classification_report(y_test, y_pred))"
   ],
   "metadata": {
    "collapsed": false,
    "ExecuteTime": {
     "start_time": "2023-04-11T21:08:12.211243Z",
     "end_time": "2023-04-11T21:08:12.290721Z"
    }
   }
  },
  {
   "cell_type": "code",
   "execution_count": null,
   "outputs": [],
   "source": [],
   "metadata": {
    "collapsed": false
   }
  },
  {
   "cell_type": "code",
   "execution_count": null,
   "outputs": [],
   "source": [],
   "metadata": {
    "collapsed": false
   }
  },
  {
   "cell_type": "code",
   "execution_count": null,
   "outputs": [],
   "source": [],
   "metadata": {
    "collapsed": false
   }
  },
  {
   "cell_type": "code",
   "execution_count": null,
   "outputs": [],
   "source": [],
   "metadata": {
    "collapsed": false
   }
  },
  {
   "cell_type": "code",
   "execution_count": null,
   "outputs": [],
   "source": [],
   "metadata": {
    "collapsed": false
   }
  },
  {
   "cell_type": "code",
   "execution_count": null,
   "outputs": [],
   "source": [],
   "metadata": {
    "collapsed": false
   }
  }
 ],
 "metadata": {
  "kernelspec": {
   "display_name": "Python 3",
   "language": "python",
   "name": "python3"
  },
  "language_info": {
   "codemirror_mode": {
    "name": "ipython",
    "version": 2
   },
   "file_extension": ".py",
   "mimetype": "text/x-python",
   "name": "python",
   "nbconvert_exporter": "python",
   "pygments_lexer": "ipython2",
   "version": "2.7.6"
  }
 },
 "nbformat": 4,
 "nbformat_minor": 0
}
