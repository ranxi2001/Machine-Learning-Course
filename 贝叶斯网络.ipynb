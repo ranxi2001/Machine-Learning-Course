{
 "cells": [
  {
   "cell_type": "code",
   "execution_count": 5,
   "metadata": {
    "collapsed": true,
    "ExecuteTime": {
     "end_time": "2023-05-23T02:14:23.742408600Z",
     "start_time": "2023-05-23T02:14:23.715999400Z"
    }
   },
   "outputs": [],
   "source": [
    "from pgmpy.models import BayesianNetwork\n",
    "from pgmpy.factors.discrete import TabularCPD\n",
    "from pgmpy.inference import VariableElimination"
   ]
  },
  {
   "cell_type": "markdown",
   "source": [
    "## 福尔摩斯推理"
   ],
   "metadata": {
    "collapsed": false
   }
  },
  {
   "cell_type": "code",
   "execution_count": 6,
   "outputs": [],
   "source": [
    "model = BayesianNetwork([('B', 'A'), ('E', 'A'), ('A', 'W'), ('E', 'R')])\n",
    "cpd_1 = TabularCPD(variable='B', variable_card=2, values=[[0.9], [0.1]])\n",
    "cpd_2 = TabularCPD(variable='E', variable_card=2, values=[[0.99], [0.01]])"
   ],
   "metadata": {
    "collapsed": false,
    "ExecuteTime": {
     "end_time": "2023-05-23T02:14:26.619137Z",
     "start_time": "2023-05-23T02:14:26.596256400Z"
    }
   }
  },
  {
   "cell_type": "code",
   "execution_count": 9,
   "outputs": [],
   "source": [
    "cpd_A = TabularCPD(variable='A', variable_card=2,\n",
    "                   values=[[0.99, 0.1, 0.1, 0.01],\n",
    "                           [0.01, 0.9, 0.9, 0.99]],\n",
    "                   evidence=['E', 'B'],#父节点\n",
    "                   evidence_card=[2, 2])#警铃\n",
    "cpd_W = TabularCPD(variable='W', variable_card=2,\n",
    "                   values=[[0.99, 0.35],\n",
    "                           [0.01, 0.65]],\n",
    "                   evidence=['A'],#父节点\n",
    "                   evidence_card=[2])#华生致电福尔摩斯\n",
    "cpd_R = TabularCPD(variable='R', variable_card=2,\n",
    "                     values=[[0.999, 0.01],\n",
    "                            [0.001, 0.99]],\n",
    "                     evidence=['E'],#父节点\n",
    "                     evidence_card=[2])#广播播报地震"
   ],
   "metadata": {
    "collapsed": false,
    "ExecuteTime": {
     "end_time": "2023-05-23T02:20:34.508537200Z",
     "start_time": "2023-05-23T02:20:34.479846300Z"
    }
   }
  },
  {
   "cell_type": "markdown",
   "source": [
    "### 问题1\n",
    "\n",
    "警铃A响了，那么窃贼入室B的概率是多少？"
   ],
   "metadata": {
    "collapsed": false
   }
  },
  {
   "cell_type": "code",
   "execution_count": 12,
   "outputs": [
    {
     "name": "stdout",
     "output_type": "stream",
     "text": [
      "+------+----------+\n",
      "| B    |   phi(B) |\n",
      "+======+==========+\n",
      "| B(0) |   0.1588 |\n",
      "+------+----------+\n",
      "| B(1) |   0.8412 |\n",
      "+------+----------+\n"
     ]
    }
   ],
   "source": [
    "model.add_cpds(cpd_1, cpd_2, cpd_A, cpd_W, cpd_R)\n",
    "infer = VariableElimination(model)\n",
    "print(infer.query(variables=['B'],evidence={'A':1}))"
   ],
   "metadata": {
    "collapsed": false,
    "ExecuteTime": {
     "end_time": "2023-05-23T02:22:28.495717200Z",
     "start_time": "2023-05-23T02:22:28.474520300Z"
    }
   }
  },
  {
   "cell_type": "markdown",
   "source": [
    "### 问题2\n",
    "\n",
    "福尔摩斯迅速开车回家。在路上，他听广播家那里发生了地震。请问他应该回家抓贼还是迅速撤离该地区以躲避地震？\n",
    "\n",
    "比较A=1,R=1时B和E谁的概率更大"
   ],
   "metadata": {
    "collapsed": false
   }
  },
  {
   "cell_type": "code",
   "execution_count": 13,
   "outputs": [
    {
     "name": "stdout",
     "output_type": "stream",
     "text": [
      "+------+----------+\n",
      "| E    |   phi(E) |\n",
      "+======+==========+\n",
      "| E(0) |   0.0108 |\n",
      "+------+----------+\n",
      "| E(1) |   0.9892 |\n",
      "+------+----------+\n"
     ]
    }
   ],
   "source": [
    "print(infer.query(variables=['E'],evidence={'A':1,'R':1}))"
   ],
   "metadata": {
    "collapsed": false,
    "ExecuteTime": {
     "end_time": "2023-05-23T02:37:36.644631300Z",
     "start_time": "2023-05-23T02:37:36.624323600Z"
    }
   }
  },
  {
   "cell_type": "code",
   "execution_count": 14,
   "outputs": [
    {
     "name": "stdout",
     "output_type": "stream",
     "text": [
      "+------+----------+\n",
      "| B    |   phi(B) |\n",
      "+======+==========+\n",
      "| B(0) |   0.8825 |\n",
      "+------+----------+\n",
      "| B(1) |   0.1175 |\n",
      "+------+----------+\n"
     ]
    }
   ],
   "source": [
    "print(infer.query(variables=['B'],evidence={'A':1,'R':1}))"
   ],
   "metadata": {
    "collapsed": false,
    "ExecuteTime": {
     "end_time": "2023-05-23T02:49:19.577678100Z",
     "start_time": "2023-05-23T02:49:19.557672700Z"
    }
   }
  },
  {
   "cell_type": "markdown",
   "source": [
    "## 草地喷水器推理"
   ],
   "metadata": {
    "collapsed": false
   }
  },
  {
   "cell_type": "code",
   "execution_count": 16,
   "outputs": [],
   "source": [
    "model = BayesianNetwork([('R', 'S'), ('R', 'G'), ('S', 'G')])\n",
    "cpd_1 = TabularCPD(variable='R', variable_card=2, values=[[0.8], [0.2]])\n",
    "cpd_S = TabularCPD(variable='S', variable_card=2,\n",
    "                   values=[[0.6, 0.99],\n",
    "                           [0.4, 0.01]],\n",
    "                   evidence=['R'],#父节点\n",
    "                   evidence_card=[2])\n",
    "cpd_G = TabularCPD(variable='G', variable_card=2,\n",
    "                   values=[[1.0, 0.2, 0.1, 0.01],\n",
    "                           [0.0, 0.8, 0.9, 0.99]],\n",
    "                   evidence=['S', 'R'],#父节点\n",
    "                   evidence_card=[2, 2])#警铃"
   ],
   "metadata": {
    "collapsed": false,
    "ExecuteTime": {
     "end_time": "2023-05-23T03:25:39.061020100Z",
     "start_time": "2023-05-23T03:25:39.032989Z"
    }
   }
  },
  {
   "cell_type": "markdown",
   "source": [
    "### 问题一：\n",
    "\n",
    "计算草地是湿的情况下，下雨的概率？"
   ],
   "metadata": {
    "collapsed": false
   }
  },
  {
   "cell_type": "code",
   "execution_count": 17,
   "outputs": [
    {
     "name": "stdout",
     "output_type": "stream",
     "text": [
      "+------+----------+\n",
      "| R    |   phi(R) |\n",
      "+======+==========+\n",
      "| R(0) |   0.6423 |\n",
      "+------+----------+\n",
      "| R(1) |   0.3577 |\n",
      "+------+----------+\n"
     ]
    }
   ],
   "source": [
    "model.add_cpds(cpd_1, cpd_S, cpd_G)\n",
    "infer = VariableElimination(model)\n",
    "print(infer.query(variables=['R'],evidence={'G':1}))"
   ],
   "metadata": {
    "collapsed": false,
    "ExecuteTime": {
     "end_time": "2023-05-23T03:27:19.041621900Z",
     "start_time": "2023-05-23T03:27:19.020576400Z"
    }
   }
  },
  {
   "cell_type": "markdown",
   "source": [
    "### 问题二：\n",
    "\n",
    "草地是湿的情况下，自动喷水的概率？"
   ],
   "metadata": {
    "collapsed": false
   }
  },
  {
   "cell_type": "code",
   "execution_count": 18,
   "outputs": [
    {
     "name": "stdout",
     "output_type": "stream",
     "text": [
      "+------+----------+\n",
      "| S    |   phi(S) |\n",
      "+======+==========+\n",
      "| S(0) |   0.3533 |\n",
      "+------+----------+\n",
      "| S(1) |   0.6467 |\n",
      "+------+----------+\n"
     ]
    }
   ],
   "source": [
    "print(infer.query(variables=['S'],evidence={'G':1}))"
   ],
   "metadata": {
    "collapsed": false,
    "ExecuteTime": {
     "end_time": "2023-05-23T03:29:47.838461500Z",
     "start_time": "2023-05-23T03:29:47.821457200Z"
    }
   }
  },
  {
   "cell_type": "code",
   "execution_count": null,
   "outputs": [],
   "source": [],
   "metadata": {
    "collapsed": false
   }
  },
  {
   "cell_type": "code",
   "execution_count": null,
   "outputs": [],
   "source": [],
   "metadata": {
    "collapsed": false
   }
  },
  {
   "cell_type": "code",
   "execution_count": null,
   "outputs": [],
   "source": [],
   "metadata": {
    "collapsed": false
   }
  }
 ],
 "metadata": {
  "kernelspec": {
   "display_name": "Python 3",
   "language": "python",
   "name": "python3"
  },
  "language_info": {
   "codemirror_mode": {
    "name": "ipython",
    "version": 2
   },
   "file_extension": ".py",
   "mimetype": "text/x-python",
   "name": "python",
   "nbconvert_exporter": "python",
   "pygments_lexer": "ipython2",
   "version": "2.7.6"
  }
 },
 "nbformat": 4,
 "nbformat_minor": 0
}
